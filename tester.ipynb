{
 "cells": [
  {
   "cell_type": "markdown",
   "id": "976cfcb7",
   "metadata": {},
   "source": [
    "## Name: Inesh Tandon\n",
    "\n",
    "This project implements an item-item collaborative filtering system to predict user ratings for books. The dataset used for the project consists of user information, rating information and book information.\n",
    "\n",
    "### Item-Item Collaborative Filtering"
   ]
  },
  {
   "cell_type": "code",
   "execution_count": 11,
   "id": "c9179716",
   "metadata": {},
   "outputs": [],
   "source": [
    "import numpy as np"
   ]
  },
  {
   "cell_type": "markdown",
   "id": "1637d099",
   "metadata": {},
   "source": [
    "Calling gatherData to get data and create utility matrix and testing set"
   ]
  },
  {
   "cell_type": "code",
   "execution_count": null,
   "id": "f8fa7907",
   "metadata": {},
   "outputs": [
    {
     "name": "stderr",
     "output_type": "stream",
     "text": [
      "/Users/ineshtandon/Documents/GitHub/CF_RecSystem/gatherData.py:15: DtypeWarning: Columns (3) have mixed types. Specify dtype option on import or set low_memory=False.\n",
      "  books_df = pd.read_csv(f'{self.base_path}/Books.csv')\n"
     ]
    }
   ],
   "source": [
    "from gatherData import GatherData\n",
    "\n",
    "# input the path to the data directory\n",
    "\n",
    "data_acquirer = GatherData('/Users/ineshtandon/Documents/GitHub/CF_RecSystem/data')\n",
    "utility_matrix, test_data = data_acquirer.split_data(split_ratio = 0.25)\n"
   ]
  },
  {
   "cell_type": "code",
   "execution_count": 3,
   "id": "7122a6dd",
   "metadata": {},
   "outputs": [
    {
     "data": {
      "text/plain": [
       "list"
      ]
     },
     "execution_count": 3,
     "metadata": {},
     "output_type": "execute_result"
    }
   ],
   "source": [
    "type(test_data)"
   ]
  },
  {
   "cell_type": "markdown",
   "id": "eb2adc22",
   "metadata": {},
   "source": [
    "## 2. Training and testing the model\n",
    "\n",
    "From recommender.py file, creating a RecSys instance and fitting data in the knn model."
   ]
  },
  {
   "cell_type": "code",
   "execution_count": 6,
   "id": "557fb9c0",
   "metadata": {},
   "outputs": [],
   "source": [
    "from recommender import RecSys\n",
    "\n",
    "recommender = RecSys(k=5, util_mat = utility_matrix, test_df = test_data)\n"
   ]
  },
  {
   "cell_type": "markdown",
   "id": "e598ce77",
   "metadata": {},
   "source": [
    "# 3. Predict ratings and evaluate using MAE\n",
    "\n",
    "The results for k = 5 are as follows: \n",
    "\n",
    "The data split is 75% training and 25% testing"
   ]
  },
  {
   "cell_type": "code",
   "execution_count": 7,
   "id": "3a9bd016",
   "metadata": {},
   "outputs": [
    {
     "name": "stdout",
     "output_type": "stream",
     "text": [
      "1.3395298868778842\n"
     ]
    }
   ],
   "source": [
    "print(recommender.calc_mae())"
   ]
  },
  {
   "cell_type": "markdown",
   "id": "8d0557ba",
   "metadata": {},
   "source": [
    "## 5. Affect of different k values:\n",
    "\n",
    "Running for different k values [10,15,20,50,100]. We observe that with incresing values of k, the mae goes down. However the difference is minimal in the second degree of decimal."
   ]
  },
  {
   "cell_type": "code",
   "execution_count": 8,
   "id": "1595c55d",
   "metadata": {},
   "outputs": [
    {
     "name": "stdout",
     "output_type": "stream",
     "text": [
      "for k val 10, the mae is 1.3080161150789158\n",
      "for k val 15, the mae is 1.2997552929252063\n",
      "for k val 20, the mae is 1.292221790989383\n",
      "for k val 50, the mae is 1.283076366513697\n",
      "for k val 100, the mae is 1.28376198091548\n"
     ]
    }
   ],
   "source": [
    "k_vals = [10, 15, 20, 50, 100]\n",
    "k_wise_mae = dict()\n",
    "\n",
    "for k in k_vals:\n",
    "    recommender_cur_k = RecSys(k = k, util_mat= utility_matrix, test_df = test_data.copy())\n",
    "    k_wise_mae[k] = recommender_cur_k.calc_mae()\n",
    "    print(f'for k val {k}, the mae is {k_wise_mae.get(k)}')"
   ]
  },
  {
   "cell_type": "markdown",
   "id": "5548c9b2",
   "metadata": {},
   "source": [
    "## 6. Performance affects with different training testing values\n",
    "\n",
    "Training set values are altered from 60% to 90% with 5% increments for optimal k value of 50 (as observed previously). \n",
    "\n",
    "There is alteration in mae values however the difference is not very significant."
   ]
  },
  {
   "cell_type": "code",
   "execution_count": 16,
   "id": "7b0424ac",
   "metadata": {},
   "outputs": [
    {
     "name": "stdout",
     "output_type": "stream",
     "text": [
      "for ratio 0.6, the mae is 1.3395298868778842\n",
      "for ratio 0.65, the mae is 1.3395298868778842\n",
      "for ratio 0.7, the mae is 1.3395298868778842\n",
      "for ratio 0.8, the mae is 1.3395298868778842\n",
      "for ratio 0.85, the mae is 1.3395298868778842\n",
      "for ratio 0.9, the mae is 1.3395298868778842\n"
     ]
    }
   ],
   "source": [
    "# running the knn for different train-test splits on the most optimal k value\n",
    "ratio_wise_mae = dict()\n",
    "\n",
    "for ratio in np.arange(0.6, 0.9, 0.05):\n",
    "    ratio = round(ratio, 2)\n",
    "    if ratio == 0.75:\n",
    "        continue\n",
    "    utility_matrix, test_data = data_acquirer.split_data(split_ratio = ratio)\n",
    "    cur_ratio_recommender = RecSys(k = 50, util_mat = utility_matrix, test_df = test_data.copy())\n",
    "    ratio_wise_mae[ratio] = recommender.calc_mae()\n",
    "    print(f'for ratio {ratio}, the mae is {ratio_wise_mae.get(ratio)}')"
   ]
  }
 ],
 "metadata": {
  "kernelspec": {
   "display_name": "ds_mode",
   "language": "python",
   "name": "python3"
  },
  "language_info": {
   "codemirror_mode": {
    "name": "ipython",
    "version": 3
   },
   "file_extension": ".py",
   "mimetype": "text/x-python",
   "name": "python",
   "nbconvert_exporter": "python",
   "pygments_lexer": "ipython3",
   "version": "3.12.0"
  }
 },
 "nbformat": 4,
 "nbformat_minor": 5
}
